{
 "cells": [
  {
   "cell_type": "markdown",
   "id": "058076ac",
   "metadata": {},
   "source": [
    "# Bias-Variance Analysis for Book Sales Prediction\n",
    "This notebook is divided into tasks as per the project requirements."
   ]
  },
  {
   "cell_type": "markdown",
   "id": "994c53d0",
   "metadata": {},
   "source": [
    "## Task 1: Setup Environment and Install Libraries"
   ]
  },
  {
   "cell_type": "code",
   "execution_count": null,
   "id": "98da23ed",
   "metadata": {},
   "outputs": [],
   "source": [
    "!pip install numpy scikit-learn matplotlib pandas"
   ]
  },
  {
   "cell_type": "markdown",
   "id": "fade47b2",
   "metadata": {},
   "source": [
    "## Task 2: Load and Prepare Data"
   ]
  },
  {
   "cell_type": "code",
   "execution_count": null,
   "id": "2e37429d",
   "metadata": {},
   "outputs": [],
   "source": [
    "import numpy as np\n",
    "import pickle\n",
    "with open('train_data.pkl', 'rb') as f:\n",
    "    train_data = pickle.load(f)\n",
    "with open('test_data.pkl', 'rb') as f:\n",
    "    test_data = pickle.load(f)\n",
    "X_train, y_train = train_data[:, 0].reshape(-1, 1), train_data[:, 1]\n",
    "X_test, y_test = test_data[:, 0].reshape(-1, 1), test_data[:, 1]"
   ]
  },
  {
   "cell_type": "markdown",
   "id": "137ea7a9",
   "metadata": {},
   "source": [
    "## Task 3: Resampling Data into 15 Subsets"
   ]
  },
  {
   "cell_type": "code",
   "execution_count": null,
   "id": "bb74c4da",
   "metadata": {},
   "outputs": [],
   "source": [
    "np.random.seed(42)\n",
    "subsets = []\n",
    "for _ in range(15):\n",
    "    indices = np.random.choice(len(X_train), len(X_train)//15, replace=True)\n",
    "    subsets.append((X_train[indices], y_train[indices]))"
   ]
  },
  {
   "cell_type": "markdown",
   "id": "437670cf",
   "metadata": {},
   "source": [
    "## Task 4: Training Models and Calculating Bias, Variance, and Irreducible Error"
   ]
  },
  {
   "cell_type": "code",
   "execution_count": null,
   "id": "6df62357",
   "metadata": {},
   "outputs": [],
   "source": [
    "from sklearn.linear_model import LinearRegression\n",
    "from sklearn.preprocessing import PolynomialFeatures\n",
    "def calculate_bias_variance(poly_degree, subsets, X_test, y_test):\n",
    "    predictions = []\n",
    "    for X_sub, y_sub in subsets:\n",
    "        poly = PolynomialFeatures(degree=poly_degree)\n",
    "        X_poly_sub = poly.fit_transform(X_sub)\n",
    "        model = LinearRegression().fit(X_poly_sub, y_sub)\n",
    "        X_poly_test = poly.transform(X_test)\n",
    "        predictions.append(model.predict(X_poly_test))\n",
    "    predictions = np.array(predictions)\n",
    "    mean_prediction = np.mean(predictions, axis=0)\n",
    "    bias = np.mean((y_test - mean_prediction)**2)\n",
    "    variance = np.mean(np.var(predictions, axis=0))\n",
    "    irreducible_error = np.mean((y_test - mean_prediction)**2 - bias - variance)\n",
    "    return bias, variance, irreducible_error"
   ]
  },
  {
   "cell_type": "code",
   "execution_count": null,
   "id": "afb71d37",
   "metadata": {},
   "outputs": [],
   "source": [
    "biases, variances, irreducible_errors = [], [], []\n",
    "for degree in range(1, 11):\n",
    "    bias, var, err = calculate_bias_variance(degree, subsets, X_test, y_test)\n",
    "    biases.append(bias)\n",
    "    variances.append(var)\n",
    "    irreducible_errors.append(err)"
   ]
  },
  {
   "cell_type": "markdown",
   "id": "fca577be",
   "metadata": {},
   "source": [
    "## Task 5: Plotting Bias² - Variance Graph"
   ]
  },
  {
   "cell_type": "code",
   "execution_count": null,
   "id": "5c779217",
   "metadata": {},
   "outputs": [],
   "source": [
    "import matplotlib.pyplot as plt\n",
    "plt.figure(figsize=(12, 6))\n",
    "plt.plot(range(1, 11), biases, label='Bias²', marker='o')\n",
    "plt.plot(range(1, 11), variances, label='Variance', marker='o')\n",
    "plt.plot(range(1, 11), [b+v for b, v in zip(biases, variances)], label='MSE', marker='o')\n",
    "plt.xlabel('Polynomial Degree')\n",
    "plt.ylabel('Error')\n",
    "plt.title('Bias-Variance Tradeoff Analysis')\n",
    "plt.legend()\n",
    "plt.grid(True)\n",
    "plt.show()"
   ]
  },
  {
   "cell_type": "markdown",
   "id": "3c2f816e",
   "metadata": {},
   "source": [
    "## Task 6: Tabulation and Observations"
   ]
  },
  {
   "cell_type": "code",
   "execution_count": null,
   "id": "9a48cd75",
   "metadata": {},
   "outputs": [],
   "source": [
    "import pandas as pd\n",
    "results = pd.DataFrame({\n",
    "    'Polynomial Degree': range(1, 11),\n",
    "    'Bias²': biases,\n",
    "    'Variance': variances,\n",
    "    'Irreducible Error': irreducible_errors\n",
    "})\n",
    "print(results)"
   ]
  },
  {
   "cell_type": "markdown",
   "id": "dd21c263",
   "metadata": {},
   "source": [
    "### Write your detailed analysis and observations here."
   ]
  }
 ],
 "metadata": {},
 "nbformat": 4,
 "nbformat_minor": 5
}
